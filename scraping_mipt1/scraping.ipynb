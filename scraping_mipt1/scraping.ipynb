{
 "cells": [
  {
   "cell_type": "code",
   "execution_count": 1,
   "metadata": {},
   "outputs": [],
   "source": [
    "import sys\n",
    "import asyncio\n",
    "from aiohttp import ClientSession, TCPConnector\n",
    "from bs4 import BeautifulSoup\n",
    "import re\n",
    "import urllib.request\n",
    "\n",
    "import numpy as np\n",
    "import pandas as pd\n",
    "import matplotlib.pyplot as plt\n",
    "import seaborn as sns\n",
    "from time import time, sleep\n",
    "\n",
    "from itertools import islice\n",
    "from IPython.display import clear_output"
   ]
  },
  {
   "cell_type": "code",
   "execution_count": 2,
   "metadata": {},
   "outputs": [],
   "source": [
    "COVERAGE_TOTALS = {\n",
    "    1: [26, 87, 79, 142, 78, 18, 189, 110, 198, 85, 35, 98, 62, 52],\n",
    "    2: [103, 24, 52, 85, 76, 88, 83, 78, 50, 159, 90, 64],\n",
    "    3: [30, 53, 84, 38, 45, 54, 97, 103, 65, 93, 57, 104],\n",
    "    4: [60, 45, 41, 26, 32, 64, 83, 138, 80, 78, 128],\n",
    "    5: [52, 54, 52, 55, 57, 80, 65, 69, 43, 98],\n",
    "}"
   ]
  },
  {
   "cell_type": "code",
   "execution_count": 3,
   "metadata": {},
   "outputs": [
    {
     "name": "stdout",
     "output_type": "stream",
     "text": [
      "4434\n"
     ]
    }
   ],
   "source": [
    "totals = [sum(COVERAGE_TOTALS[i]) for i in range(1, 6)]\n",
    "global_total = sum(totals)\n",
    "print(global_total)"
   ]
  },
  {
   "cell_type": "code",
   "execution_count": 4,
   "metadata": {},
   "outputs": [],
   "source": [
    "def generate_zads(sem):\n",
    "    return [\n",
    "        \".\".join((str(i + 1), str(j)))\n",
    "        for i in range(len(COVERAGE_TOTALS[sem]))\n",
    "        for j in range(1, COVERAGE_TOTALS[sem][i] + 1)\n",
    "    ]"
   ]
  },
  {
   "cell_type": "code",
   "execution_count": 5,
   "metadata": {},
   "outputs": [],
   "source": [
    "url_list = [\n",
    "    f\"https://mipt1.ru/1_2_3_4_5_kor.php?sem={sem}&zad={zad}\"\n",
    "    for sem in range(1, 6)\n",
    "    for zad in generate_zads(sem)\n",
    "]"
   ]
  },
  {
   "cell_type": "code",
   "execution_count": 6,
   "metadata": {},
   "outputs": [],
   "source": [
    "# url_dict = {}\n",
    "# for sem in range(1, 6):\n",
    "#     url_dict[sem] = [f\"https://mipt1.ru/1_2_3_4_5_kor.php?sem={sem}&zad={zad}\" for zad in generate_zads(sem)]\n",
    "\n",
    "# for sem in range(1, 6):\n",
    "#     assert len(url_dict[sem]) == len(set(url_dict[sem]))"
   ]
  },
  {
   "cell_type": "code",
   "execution_count": 7,
   "metadata": {},
   "outputs": [],
   "source": [
    "with open(\"data.csv\", \"w\", encoding=\"utf8\") as f:\n",
    "    f.write(\"sem,zad,page\\n\")"
   ]
  },
  {
   "cell_type": "code",
   "execution_count": 8,
   "metadata": {},
   "outputs": [],
   "source": [
    "def purify(output):\n",
    "    if re.match(r\".*странице\", output):\n",
    "        page = re.search(r\"№\\d*\", output)[0][1:]\n",
    "    elif re.match(r\".*не найдена\", output):\n",
    "        page = 0\n",
    "    elif re.match(r\"Укажите номер задачи корректно!\", output):\n",
    "        raise Exception(\"Oh shit... wrong input\")\n",
    "    else:\n",
    "        raise Exception(\"Oh shit... this is even worse...\")\n",
    "    return page"
   ]
  },
  {
   "cell_type": "code",
   "execution_count": 9,
   "metadata": {},
   "outputs": [],
   "source": [
    "def parse_and_save(html, io):\n",
    "    soup = BeautifulSoup(html, \"html.parser\")\n",
    "    div = soup.find_all(\"div\", class_=\"short_content\")[0]\n",
    "    output = div.b.get_text()\n",
    "    page = purify(output)\n",
    "    meta = soup.find(id=\"footer\").p.a.get('href')\n",
    "    metalist = re.split('=|&', meta)\n",
    "    sem, zad = metalist[1], metalist[3]\n",
    "    io.write(\",\".join([sem, zad, str(page)]) + \"\\n\")"
   ]
  },
  {
   "cell_type": "code",
   "execution_count": 10,
   "metadata": {},
   "outputs": [
    {
     "name": "stdout",
     "output_type": "stream",
     "text": [
      "4434 urls out of 4434\n",
      "All done! Seconds took:  824.3027274608612\n"
     ]
    }
   ],
   "source": [
    "lock = asyncio.Lock()\n",
    "\n",
    "\n",
    "async def fetch_links_and_pass(url: str, session: ClientSession, io_to_write):\n",
    "    \n",
    "    async with session.get(url) as response:\n",
    "        html = await response.text()\n",
    "        \n",
    "    parse_and_save(html, io_to_write)\n",
    "\n",
    "\n",
    "async def fetch(urls):\n",
    "    with open(\"data.csv\", \"a\", encoding=\"utf8\") as opened_file:\n",
    "        def chunk(it, size):\n",
    "            it = iter(it)\n",
    "            return iter(lambda: tuple(islice(it, size)), ())\n",
    "        chunks = list(chunk(urls, 300))\n",
    "        counter = 0\n",
    "        for urls_chunk in chunks:\n",
    "            clear_output(wait=True)\n",
    "            counter += len(urls_chunk)\n",
    "            conn = TCPConnector(limit=1)\n",
    "            async with ClientSession(connector=conn) as session:\n",
    "                tasks = [\n",
    "                    asyncio.create_task(fetch_links_and_pass(url, session, opened_file)) for url in urls_chunk\n",
    "                ]\n",
    "                await asyncio.gather(*tasks)\n",
    "            print(f\"{counter} urls out of {len(urls)}\")\n",
    "\n",
    "\n",
    "start = time()\n",
    "await fetch(url_list)\n",
    "time_took = time() - start\n",
    "print(\"All done! Seconds took: \", time_took)"
   ]
  },
  {
   "cell_type": "code",
   "execution_count": 11,
   "metadata": {},
   "outputs": [],
   "source": [
    "# with open(\"data.csv\", \"a\", encoding=\"utf8\") as f:\n",
    "#     cnt = 0\n",
    "#     length = len(url_list)\n",
    "#     for url in url_list:\n",
    "#         clear_output(wait=True)\n",
    "#         with urllib.request.urlopen(url) as response:\n",
    "#             html = response.read()\n",
    "#         parse_and_save(html, f)\n",
    "        \n",
    "#         cnt += 1\n",
    "#         print(f\"{cnt} out of {length}\")\n",
    "\n",
    "\n",
    "# print(\"All done!\")"
   ]
  },
  {
   "cell_type": "code",
   "execution_count": 12,
   "metadata": {},
   "outputs": [],
   "source": [
    "# # temp cell\n",
    "# with urllib.request.urlopen(\"https://mipt1.ru/1_2_3_4_5_kor.php?sem=4&zad=1.1\") as response:\n",
    "#     html = response.read()\n",
    "# soup = BeautifulSoup(html, \"html.parser\")\n",
    "# div = soup.find_all(\"div\", class_=\"short_content\")[0]\n",
    "# meta = soup.find(id=\"footer\").p.a.get('href')\n",
    "# metalist = re.split('=|&', meta)\n",
    "# sem, zad = metalist[1], metalist[3]\n",
    "# output = div.b.get_text()\n",
    "# page = purify(output)\n",
    "# print(page)\n",
    "# print(sem, zad)"
   ]
  },
  {
   "cell_type": "code",
   "execution_count": 53,
   "metadata": {},
   "outputs": [],
   "source": [
    "df = pd.read_csv(\"data.csv\", dtype={\"zad\": str, \"sem\": str})\n",
    "# df[\"identifier\"] = str(df[\"sem\"]) + str(df[\"zad\"])\n",
    "df = df.assign(identifier = lambda x: (x['sem'] + x['zad']))"
   ]
  },
  {
   "cell_type": "code",
   "execution_count": 45,
   "metadata": {},
   "outputs": [
    {
     "data": {
      "text/plain": [
       "73.7"
      ]
     },
     "execution_count": 45,
     "metadata": {},
     "output_type": "execute_result"
    }
   ],
   "source": [
    "total_got = len(df)\n",
    "assert total_got == global_total\n",
    "df_non_zero = df[df[\"page\"] != 0]\n",
    "in_koryavov = len(df_non_zero)\n",
    "coverage = round(in_koryavov / total_got * 100, 1)\n",
    "coverage"
   ]
  },
  {
   "cell_type": "code",
   "execution_count": 46,
   "metadata": {},
   "outputs": [
    {
     "name": "stdout",
     "output_type": "stream",
     "text": [
      "1259 1259\n",
      "952 952\n",
      "823 823\n",
      "775 775\n",
      "625 625\n"
     ]
    }
   ],
   "source": [
    "for sem in range(1, 6):\n",
    "    print(len(df[(df[\"sem\"] == sem)][\"zad\"].unique()), len(df[(df[\"sem\"] == sem)]))"
   ]
  },
  {
   "cell_type": "markdown",
   "metadata": {},
   "source": [
    "|hey|hey|\n",
    "| --- | --- |\n",
    "|1141|1259|\n",
    "|862|952|\n",
    "|746|823|\n",
    "|702|775|\n",
    "|567|625|\n"
   ]
  },
  {
   "cell_type": "code",
   "execution_count": 54,
   "metadata": {},
   "outputs": [
    {
     "data": {
      "text/html": [
       "<div>\n",
       "<style scoped>\n",
       "    .dataframe tbody tr th:only-of-type {\n",
       "        vertical-align: middle;\n",
       "    }\n",
       "\n",
       "    .dataframe tbody tr th {\n",
       "        vertical-align: top;\n",
       "    }\n",
       "\n",
       "    .dataframe thead th {\n",
       "        text-align: right;\n",
       "    }\n",
       "</style>\n",
       "<table border=\"1\" class=\"dataframe\">\n",
       "  <thead>\n",
       "    <tr style=\"text-align: right;\">\n",
       "      <th></th>\n",
       "      <th>sem</th>\n",
       "      <th>zad</th>\n",
       "      <th>page</th>\n",
       "      <th>identifier</th>\n",
       "    </tr>\n",
       "  </thead>\n",
       "  <tbody>\n",
       "    <tr>\n",
       "      <th>0</th>\n",
       "      <td>1</td>\n",
       "      <td>1.1</td>\n",
       "      <td>10</td>\n",
       "      <td>11.1</td>\n",
       "    </tr>\n",
       "    <tr>\n",
       "      <th>1</th>\n",
       "      <td>1</td>\n",
       "      <td>1.2</td>\n",
       "      <td>10</td>\n",
       "      <td>11.2</td>\n",
       "    </tr>\n",
       "    <tr>\n",
       "      <th>2</th>\n",
       "      <td>1</td>\n",
       "      <td>1.3</td>\n",
       "      <td>10</td>\n",
       "      <td>11.3</td>\n",
       "    </tr>\n",
       "    <tr>\n",
       "      <th>3</th>\n",
       "      <td>1</td>\n",
       "      <td>1.4</td>\n",
       "      <td>11</td>\n",
       "      <td>11.4</td>\n",
       "    </tr>\n",
       "    <tr>\n",
       "      <th>4</th>\n",
       "      <td>1</td>\n",
       "      <td>1.5</td>\n",
       "      <td>11</td>\n",
       "      <td>11.5</td>\n",
       "    </tr>\n",
       "  </tbody>\n",
       "</table>\n",
       "</div>"
      ],
      "text/plain": [
       "  sem  zad  page identifier\n",
       "0   1  1.1    10       11.1\n",
       "1   1  1.2    10       11.2\n",
       "2   1  1.3    10       11.3\n",
       "3   1  1.4    11       11.4\n",
       "4   1  1.5    11       11.5"
      ]
     },
     "execution_count": 54,
     "metadata": {},
     "output_type": "execute_result"
    }
   ],
   "source": [
    "df.head()"
   ]
  },
  {
   "cell_type": "code",
   "execution_count": 43,
   "metadata": {},
   "outputs": [
    {
     "data": {
      "text/plain": [
       "40"
      ]
     },
     "execution_count": 43,
     "metadata": {},
     "output_type": "execute_result"
    }
   ],
   "source": [
    "df[(df[\"sem\"] == 2) & (df[\"zad\"] == \"1.1\")][\"page\"].iloc[0]"
   ]
  },
  {
   "cell_type": "code",
   "execution_count": 60,
   "metadata": {},
   "outputs": [],
   "source": [
    "df.to_csv('data2.csv', index=False)"
   ]
  },
  {
   "cell_type": "code",
   "execution_count": 61,
   "metadata": {},
   "outputs": [
    {
     "data": {
      "text/html": [
       "<div>\n",
       "<style scoped>\n",
       "    .dataframe tbody tr th:only-of-type {\n",
       "        vertical-align: middle;\n",
       "    }\n",
       "\n",
       "    .dataframe tbody tr th {\n",
       "        vertical-align: top;\n",
       "    }\n",
       "\n",
       "    .dataframe thead th {\n",
       "        text-align: right;\n",
       "    }\n",
       "</style>\n",
       "<table border=\"1\" class=\"dataframe\">\n",
       "  <thead>\n",
       "    <tr style=\"text-align: right;\">\n",
       "      <th></th>\n",
       "      <th>sem</th>\n",
       "      <th>zad</th>\n",
       "      <th>page</th>\n",
       "      <th>identifier</th>\n",
       "    </tr>\n",
       "  </thead>\n",
       "  <tbody>\n",
       "    <tr>\n",
       "      <th>0</th>\n",
       "      <td>1</td>\n",
       "      <td>1.1</td>\n",
       "      <td>10</td>\n",
       "      <td>11.1</td>\n",
       "    </tr>\n",
       "    <tr>\n",
       "      <th>1</th>\n",
       "      <td>1</td>\n",
       "      <td>1.2</td>\n",
       "      <td>10</td>\n",
       "      <td>11.2</td>\n",
       "    </tr>\n",
       "    <tr>\n",
       "      <th>2</th>\n",
       "      <td>1</td>\n",
       "      <td>1.3</td>\n",
       "      <td>10</td>\n",
       "      <td>11.3</td>\n",
       "    </tr>\n",
       "    <tr>\n",
       "      <th>3</th>\n",
       "      <td>1</td>\n",
       "      <td>1.4</td>\n",
       "      <td>11</td>\n",
       "      <td>11.4</td>\n",
       "    </tr>\n",
       "    <tr>\n",
       "      <th>4</th>\n",
       "      <td>1</td>\n",
       "      <td>1.5</td>\n",
       "      <td>11</td>\n",
       "      <td>11.5</td>\n",
       "    </tr>\n",
       "    <tr>\n",
       "      <th>5</th>\n",
       "      <td>1</td>\n",
       "      <td>1.6</td>\n",
       "      <td>0</td>\n",
       "      <td>11.6</td>\n",
       "    </tr>\n",
       "    <tr>\n",
       "      <th>6</th>\n",
       "      <td>1</td>\n",
       "      <td>1.7</td>\n",
       "      <td>15</td>\n",
       "      <td>11.7</td>\n",
       "    </tr>\n",
       "    <tr>\n",
       "      <th>7</th>\n",
       "      <td>1</td>\n",
       "      <td>1.8</td>\n",
       "      <td>0</td>\n",
       "      <td>11.8</td>\n",
       "    </tr>\n",
       "    <tr>\n",
       "      <th>8</th>\n",
       "      <td>1</td>\n",
       "      <td>1.9</td>\n",
       "      <td>12</td>\n",
       "      <td>11.9</td>\n",
       "    </tr>\n",
       "    <tr>\n",
       "      <th>9</th>\n",
       "      <td>1</td>\n",
       "      <td>1.1</td>\n",
       "      <td>24</td>\n",
       "      <td>11.1</td>\n",
       "    </tr>\n",
       "  </tbody>\n",
       "</table>\n",
       "</div>"
      ],
      "text/plain": [
       "   sem  zad  page  identifier\n",
       "0    1  1.1    10        11.1\n",
       "1    1  1.2    10        11.2\n",
       "2    1  1.3    10        11.3\n",
       "3    1  1.4    11        11.4\n",
       "4    1  1.5    11        11.5\n",
       "5    1  1.6     0        11.6\n",
       "6    1  1.7    15        11.7\n",
       "7    1  1.8     0        11.8\n",
       "8    1  1.9    12        11.9\n",
       "9    1  1.1    24        11.1"
      ]
     },
     "execution_count": 61,
     "metadata": {},
     "output_type": "execute_result"
    }
   ],
   "source": [
    "df2 = pd.read_csv(\"data2.csv\")\n",
    "df2.head(10)"
   ]
  },
  {
   "cell_type": "code",
   "execution_count": null,
   "metadata": {},
   "outputs": [],
   "source": [
    "for i in range(10):\n",
    "    print(\"hey\")\n",
    "for i in range(10):\n",
    "    print"
   ]
  },
  {
   "cell_type": "code",
   "execution_count": 2,
   "metadata": {},
   "outputs": [],
   "source": [
    "def A(dfd):\n",
    "    pass"
   ]
  },
  {
   "cell_type": "code",
   "execution_count": 3,
   "metadata": {},
   "outputs": [],
   "source": [
    "import numpy as np"
   ]
  }
 ],
 "metadata": {
  "kernelspec": {
   "display_name": "ds38",
   "language": "python",
   "name": "ds38"
  },
  "language_info": {
   "codemirror_mode": {
    "name": "ipython",
    "version": 3
   },
   "file_extension": ".py",
   "mimetype": "text/x-python",
   "name": "python",
   "nbconvert_exporter": "python",
   "pygments_lexer": "ipython3",
   "version": "3.8.5"
  }
 },
 "nbformat": 4,
 "nbformat_minor": 4
}
